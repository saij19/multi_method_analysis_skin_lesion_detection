{
 "cells": [
  {
   "cell_type": "markdown",
   "id": "8ff984be-a791-448c-b76c-beed4dd537e6",
   "metadata": {},
   "source": [
    "# Multi-Model Fusion (late fusion)"
   ]
  },
  {
   "cell_type": "code",
   "execution_count": 1,
   "id": "8a9c613d-a46e-4a87-ac9d-ea13ead3a8ce",
   "metadata": {},
   "outputs": [],
   "source": [
    "import os\n",
    "import io\n",
    "import time\n",
    "import copy\n",
    "import numpy as np\n",
    "import pandas as pd\n",
    "import matplotlib.pyplot as plt\n",
    "import seaborn as sns\n",
    "from PIL import Image\n",
    "import h5py\n",
    "from sklearn.preprocessing import StandardScaler\n",
    "from sklearn.model_selection import train_test_split\n",
    "from sklearn.ensemble import RandomForestClassifier\n",
    "from sklearn.metrics import accuracy_score, precision_score, recall_score, f1_score, classification_report, confusion_matrix\n",
    "from sklearn.utils.class_weight import compute_class_weight\n",
    "from torch.utils.data import DataLoader, Dataset, random_split\n",
    "import torch\n",
    "import torch.nn as nn\n",
    "import torch.optim as optim\n",
    "import torch.nn.functional as F\n",
    "from torchvision import models, transforms"
   ]
  },
  {
   "cell_type": "code",
   "execution_count": 2,
   "id": "c18086b9-2e3a-46f4-89f1-8df4f42ff20f",
   "metadata": {},
   "outputs": [],
   "source": [
    "PATH = 'dataset'"
   ]
  },
  {
   "cell_type": "markdown",
   "id": "5d18b8d1-6d19-4cf7-a88e-2d3734660cf7",
   "metadata": {
    "jp-MarkdownHeadingCollapsed": true
   },
   "source": [
    "## 1. Preprocessing data for Metadata MLP"
   ]
  },
  {
   "cell_type": "code",
   "execution_count": 3,
   "id": "39374d1e-008d-4a9c-bb22-2d08d468d370",
   "metadata": {},
   "outputs": [],
   "source": [
    "train_metadata_path = os.path.join(PATH, 'train-metadata.csv')\n",
    "\n",
    "# Load data\n",
    "train_metadata_unprocessed = pd.read_csv(train_metadata_path, low_memory=False)"
   ]
  },
  {
   "cell_type": "markdown",
   "id": "47aa37eb-9a99-4dd7-85cc-eabe3bc5606c",
   "metadata": {
    "jp-MarkdownHeadingCollapsed": true
   },
   "source": [
    "### Dataset is highly imbalanced, so to balance it I downsample it to fix it"
   ]
  },
  {
   "cell_type": "code",
   "execution_count": 4,
   "id": "c561b0bf-aa54-4e94-b717-2c173a6db33b",
   "metadata": {},
   "outputs": [],
   "source": [
    "# Extract all malignant cases (target=1)\n",
    "positives = train_metadata_unprocessed[train_metadata_unprocessed['target'] == 1]  \n",
    "\n",
    "# Extract an equal number of benign cases (target=0) to match the number of positives\n",
    "negatives = train_metadata_unprocessed[train_metadata_unprocessed['target'] == 0]\n",
    "\n",
    "n_samples = positives.shape[0]\n",
    "sampled_negatives = negatives.sample(n=n_samples, random_state=42)"
   ]
  },
  {
   "cell_type": "code",
   "execution_count": 5,
   "id": "5adc4943-bd39-485d-b740-afe6856bea24",
   "metadata": {},
   "outputs": [],
   "source": [
    "# Combine them to get a balanced dataset\n",
    "train_metadata = pd.concat([sampled_negatives, positives])"
   ]
  },
  {
   "cell_type": "markdown",
   "id": "99579af8-d729-49f8-a1eb-51a29c20293d",
   "metadata": {
    "jp-MarkdownHeadingCollapsed": true
   },
   "source": [
    "### Feature cleaning and encoding"
   ]
  },
  {
   "cell_type": "code",
   "execution_count": 6,
   "id": "e2a93dae-2020-449d-9cb5-2fcba371a1b7",
   "metadata": {},
   "outputs": [],
   "source": [
    "# The following columns are not relevant or are meant to be dropped\n",
    "# We keep 'isic_id' for alignment purposes (to identify images), and drop it later\n",
    "to_drop_columns = ['patient_id', 'image_type', 'attribution', 'copyright_license', 'lesion_id']\n",
    "\n",
    "# \"train_only_columns\" are columns present only in training, we drop them as they are not needed\n",
    "train_only_columns = ['iddx_full', 'iddx_1', 'iddx_2','iddx_3', 'iddx_4', 'iddx_5', \n",
    "                      'mel_mitotic_index', 'mel_thick_mm', 'tbp_lv_dnn_lesion_confidence']\n",
    "\n",
    "# Columns to perform one-hot encoding on\n",
    "one_hot_columns = ['age_approx','sex', 'anatom_site_general', 'tbp_tile_type','tbp_lv_location', 'tbp_lv_location_simple']\n",
    "\n",
    "# Numerical columns that I will standardize later\n",
    "numerical_columns = ['clin_size_long_diam_mm', 'tbp_lv_A', 'tbp_lv_Aext', 'tbp_lv_B', 'tbp_lv_Bext',\n",
    "                     'tbp_lv_C', 'tbp_lv_Cext', 'tbp_lv_H', 'tbp_lv_Hext', 'tbp_lv_L', 'tbp_lv_Lext',\n",
    "                     'tbp_lv_areaMM2', 'tbp_lv_area_perim_ratio', 'tbp_lv_color_std_mean', 'tbp_lv_deltaA',\n",
    "                     'tbp_lv_deltaB', 'tbp_lv_deltaL', 'tbp_lv_deltaLB', 'tbp_lv_deltaLBnorm', 'tbp_lv_eccentricity',\n",
    "                     'tbp_lv_minorAxisMM', 'tbp_lv_nevi_confidence', 'tbp_lv_norm_border', 'tbp_lv_norm_color',\n",
    "                     'tbp_lv_perimeterMM', 'tbp_lv_radial_color_std_max', 'tbp_lv_stdL', 'tbp_lv_stdLExt',\n",
    "                     'tbp_lv_symm_2axis', 'tbp_lv_symm_2axis_angle', 'tbp_lv_x', 'tbp_lv_y', 'tbp_lv_z']"
   ]
  },
  {
   "cell_type": "code",
   "execution_count": 7,
   "id": "710be18f-2db9-428c-b229-861b0647bbf3",
   "metadata": {},
   "outputs": [],
   "source": [
    "# Drop irrelevant columns (but keep isic_id for alignment)\n",
    "train_metadata = train_metadata.drop(columns=to_drop_columns, errors='ignore')\n",
    "\n",
    "# Drop train-only columns not needed for inference\n",
    "train_metadata = train_metadata.drop(columns=train_only_columns, errors='ignore')"
   ]
  },
  {
   "cell_type": "markdown",
   "id": "19d0cc6a-d676-4684-87f8-fd7ed0ba3f2a",
   "metadata": {
    "jp-MarkdownHeadingCollapsed": true
   },
   "source": [
    "### One-hot encoding and standardization"
   ]
  },
  {
   "cell_type": "code",
   "execution_count": 8,
   "id": "55fd477d-54f9-479b-bf2a-9f3ad8683359",
   "metadata": {},
   "outputs": [],
   "source": [
    "# Identify which columns need one-hot encoding based on what's available in train_metadata\n",
    "train_one_hot = [c for c in train_metadata.columns if c in one_hot_columns]\n",
    "\n",
    "# Apply one-hot encoding to the specified columns\n",
    "train_metadata = pd.get_dummies(train_metadata, columns=train_one_hot)"
   ]
  },
  {
   "cell_type": "code",
   "execution_count": 9,
   "id": "15f29f97-1fec-48fb-a824-bbd271f0c359",
   "metadata": {},
   "outputs": [],
   "source": [
    "# Standardize numerical columns\n",
    "scaler = StandardScaler()\n",
    "for c in numerical_columns:\n",
    "    if c in train_metadata.columns:\n",
    "        train_metadata[c] = scaler.fit_transform(train_metadata[[c]])"
   ]
  },
  {
   "cell_type": "markdown",
   "id": "c08fdf73-f349-43e1-a82d-f93acf580cbb",
   "metadata": {
    "jp-MarkdownHeadingCollapsed": true
   },
   "source": [
    "### Feature Selection using Correlation and Random Forest"
   ]
  },
  {
   "cell_type": "code",
   "execution_count": 10,
   "id": "0f50e14a-4b38-45d1-8c87-992839206f4d",
   "metadata": {},
   "outputs": [],
   "source": [
    "X_full = train_metadata.drop(columns=['target'], errors='ignore')\n",
    "y_full = train_metadata['target']"
   ]
  },
  {
   "cell_type": "code",
   "execution_count": 11,
   "id": "4de1cb91-2a09-44e4-b8ba-18f74ca54e99",
   "metadata": {},
   "outputs": [
    {
     "name": "stdout",
     "output_type": "stream",
     "text": [
      "X_full shape: (786, 84)\n",
      "y_full value counts:\n",
      " target\n",
      "0    393\n",
      "1    393\n",
      "Name: count, dtype: int64\n"
     ]
    }
   ],
   "source": [
    "print(\"X_full shape:\", X_full.shape)  # should be (393, number_of_features)\n",
    "print(\"y_full value counts:\\n\", y_full.value_counts())"
   ]
  },
  {
   "cell_type": "code",
   "execution_count": 12,
   "id": "ad34599b-b9f8-44ab-8bad-b5b0deabdca6",
   "metadata": {},
   "outputs": [],
   "source": [
    "# Compute correlation matrix without 'isic_id' since it's not numeric\n",
    "numeric_df = train_metadata.drop(columns=['isic_id'], errors='ignore')\n",
    "correlation_matrix = numeric_df.corr()\n",
    "\n",
    "# Identify features strongly correlated with the target\n",
    "target_correlation = correlation_matrix['target'].abs().sort_values(ascending=False)"
   ]
  },
  {
   "cell_type": "code",
   "execution_count": 13,
   "id": "637985b6-fd59-4a5f-9812-e791c1596736",
   "metadata": {},
   "outputs": [],
   "source": [
    "# Using Random Forest to find feature importances\n",
    "X_for_rf = X_full.drop(columns=['isic_id'], errors='ignore')  # Don't use isic_id in RF\n",
    "rf_model = RandomForestClassifier(random_state=26)\n",
    "rf_model.fit(X_for_rf, y_full)\n",
    "feature_importances = pd.Series(rf_model.feature_importances_, index=X_for_rf.columns).sort_values(ascending=False)"
   ]
  },
  {
   "cell_type": "code",
   "execution_count": 14,
   "id": "1873e7fb-5b02-4424-a4e3-820ad88cecc5",
   "metadata": {},
   "outputs": [],
   "source": [
    "# Select top correlated and top RF importance features\n",
    "correlated_features = target_correlation[target_correlation >= 0.05].index.drop('target')\n",
    "rf_features = feature_importances.head(15).index\n",
    "top_features = correlated_features.union(rf_features)"
   ]
  },
  {
   "cell_type": "code",
   "execution_count": 15,
   "id": "2bd010e8-0f1f-4224-b61a-fcddbe2d18f7",
   "metadata": {},
   "outputs": [],
   "source": [
    "# Ensure 'isic_id' is included for alignment, even if not a top feature\n",
    "top_features_list = list(top_features)\n",
    "if 'isic_id' not in top_features_list:\n",
    "    top_features_list.append('isic_id')"
   ]
  },
  {
   "cell_type": "markdown",
   "id": "adb3a789-6022-4059-8863-60bb7120fd45",
   "metadata": {
    "jp-MarkdownHeadingCollapsed": true
   },
   "source": [
    "### Split into TRAIN-VAL-TEST"
   ]
  },
  {
   "cell_type": "markdown",
   "id": "0867f3ee-614b-4ecb-83ea-44f7c3d9c9ab",
   "metadata": {},
   "source": [
    "Here I split the balanced dataset into local train/val/test sets, i.e. - \n",
    "80% training\n",
    "10% validation\n",
    "10% testing approximately"
   ]
  },
  {
   "cell_type": "code",
   "execution_count": 16,
   "id": "d65617ce-d0c0-4a67-8c38-f3a16caf614d",
   "metadata": {},
   "outputs": [],
   "source": [
    "# First, split 10% for test\n",
    "X_temp, X_test, y_temp, y_test = train_test_split(\n",
    "    X_full, y_full, \n",
    "    test_size=0.1,\n",
    "    stratify=y_full, \n",
    "    random_state=42\n",
    ")"
   ]
  },
  {
   "cell_type": "code",
   "execution_count": 17,
   "id": "d2cbc4c5-85f5-4396-9f28-75e48184b37e",
   "metadata": {},
   "outputs": [],
   "source": [
    "# Now split the remaining 90% into approx 11.1% val (which is about 10% of original total),\n",
    "# leaving approx 80% train. test_size=0.111111 of 90% ~ 10% of original total.\n",
    "\n",
    "X_train, X_val, y_train, y_val = train_test_split(\n",
    "    X_temp, y_temp,\n",
    "    test_size=0.111111,\n",
    "    stratify=y_temp,\n",
    "    random_state=42\n",
    ")"
   ]
  },
  {
   "cell_type": "code",
   "execution_count": 18,
   "id": "af522932-a8ba-4150-bfd8-d92d2d75c20e",
   "metadata": {},
   "outputs": [
    {
     "name": "stdout",
     "output_type": "stream",
     "text": [
      "Train size: 628\n",
      "Val size: 79\n",
      "Test size: 79\n"
     ]
    }
   ],
   "source": [
    "print(\"Train size:\", len(X_train))\n",
    "print(\"Val size:\", len(X_val))\n",
    "print(\"Test size:\", len(X_test))"
   ]
  },
  {
   "cell_type": "markdown",
   "id": "ab79cc93-d838-4aa4-886e-900c8a8efbb6",
   "metadata": {
    "jp-MarkdownHeadingCollapsed": true
   },
   "source": [
    "### Using Only the Selected Top Features"
   ]
  },
  {
   "cell_type": "markdown",
   "id": "ad2b83b8-cdaf-4c4b-85b3-86391177bf94",
   "metadata": {},
   "source": [
    "Now that the splits are redy, I want to reduce to top_features only.\n",
    "'isic_id' was included in top_features_list for alignment, so after selecting top features, I will drop 'isic_id' before feeding into the model."
   ]
  },
  {
   "cell_type": "code",
   "execution_count": 19,
   "id": "11d1549b-1cc4-4a02-ac0a-ce6bf383f47c",
   "metadata": {},
   "outputs": [],
   "source": [
    "X_train = X_train[top_features_list].copy()\n",
    "X_val = X_val[top_features_list].copy()\n",
    "X_test = X_test[top_features_list].copy()"
   ]
  },
  {
   "cell_type": "code",
   "execution_count": 20,
   "id": "62c077f9-d798-47a4-9911-8720e8046203",
   "metadata": {},
   "outputs": [],
   "source": [
    "# Extract and store isic_ids (for image alignment or other multimodal steps)\n",
    "train_isic_ids = X_train['isic_id'].astype(str)\n",
    "val_isic_ids = X_val['isic_id'].astype(str)\n",
    "test_isic_ids = X_test['isic_id'].astype(str)"
   ]
  },
  {
   "cell_type": "code",
   "execution_count": 21,
   "id": "18400cd3-402a-4d8d-9e4e-a367a45cb8a9",
   "metadata": {},
   "outputs": [],
   "source": [
    "# Drop isic_id column\n",
    "X_train = X_train.drop('isic_id', axis=1, errors='ignore')\n",
    "X_val = X_val.drop('isic_id', axis=1, errors='ignore')\n",
    "X_test = X_test.drop('isic_id', axis=1, errors='ignore')"
   ]
  },
  {
   "cell_type": "code",
   "execution_count": 22,
   "id": "17b6fd3f-e441-4884-9828-37d0c1d17766",
   "metadata": {},
   "outputs": [],
   "source": [
    "# Reset indices - This will ensure that X_train.iloc[idx] and X_train.loc[idx] refer to the same rows and start at 0\n",
    "X_train = X_train.reset_index(drop=True)\n",
    "y_train = y_train.reset_index(drop=True)\n",
    "train_isic_ids = train_isic_ids.reset_index(drop=True)\n",
    "\n",
    "X_val = X_val.reset_index(drop=True)\n",
    "y_val = y_val.reset_index(drop=True)\n",
    "val_isic_ids = val_isic_ids.reset_index(drop=True)\n",
    "\n",
    "X_test = X_test.reset_index(drop=True)\n",
    "y_test = y_test.reset_index(drop=True)\n",
    "test_isic_ids = test_isic_ids.reset_index(drop=True)"
   ]
  },
  {
   "cell_type": "code",
   "execution_count": 23,
   "id": "6255dc7d-e9a2-4509-a9f3-6fbf89c34a65",
   "metadata": {},
   "outputs": [],
   "source": [
    "# Now convert to float\n",
    "X_train = X_train.astype(float)\n",
    "X_val = X_val.astype(float)\n",
    "X_test = X_test.astype(float)\n",
    "y_train = y_train.astype(float)\n",
    "y_val = y_val.astype(float)\n",
    "y_test = y_test.astype(float)"
   ]
  },
  {
   "cell_type": "code",
   "execution_count": 24,
   "id": "1d33e370-ed44-464f-b472-ec41e4dbf71a",
   "metadata": {},
   "outputs": [],
   "source": [
    "# Convert Data to Tensors for Model Input\n",
    "X_train_tensor = torch.tensor(X_train.values, dtype=torch.float32)\n",
    "y_train_tensor = torch.tensor(y_train.values, dtype=torch.float32)\n",
    "X_val_tensor = torch.tensor(X_val.values, dtype=torch.float32)\n",
    "y_val_tensor = torch.tensor(y_val.values, dtype=torch.float32)\n",
    "X_test_tensor = torch.tensor(X_test.values, dtype=torch.float32)\n",
    "y_test_tensor = torch.tensor(y_test.values, dtype=torch.float32)"
   ]
  },
  {
   "cell_type": "markdown",
   "id": "7b5bd5ef-930d-4821-ae40-e6bc778f29f1",
   "metadata": {},
   "source": [
    "### PyTorch dataset class for metadata"
   ]
  },
  {
   "cell_type": "code",
   "execution_count": 25,
   "id": "ce68d16e-33d5-4b00-8e26-2d21a8cc3f2c",
   "metadata": {},
   "outputs": [],
   "source": [
    "class metadataDataset(Dataset):\n",
    "    def __init__(self, X, y):\n",
    "        self.X = X\n",
    "        self.y = y\n",
    "    def __len__(self):\n",
    "        return len(self.X)\n",
    "    def __getitem__(self, idx):\n",
    "        return self.X[idx], self.y[idx]"
   ]
  },
  {
   "cell_type": "code",
   "execution_count": 26,
   "id": "783dc4a2-84f4-4f4d-9b38-a26ba4014ae8",
   "metadata": {},
   "outputs": [],
   "source": [
    "# Create datasets and dataloaders for train-val-test\n",
    "train_metadata_dataset = metadataDataset(X_train_tensor, y_train_tensor)\n",
    "val_metadata_dataset = metadataDataset(X_val_tensor, y_val_tensor)\n",
    "test_metadata_dataset = metadataDataset(X_test_tensor, y_test_tensor)\n",
    "\n",
    "train_meta_loader = DataLoader(train_metadata_dataset, batch_size=16, shuffle=True)\n",
    "val_meta_loader = DataLoader(val_metadata_dataset, batch_size=16, shuffle=False)\n",
    "test_meta_loader = DataLoader(test_metadata_dataset, batch_size=16, shuffle=False)"
   ]
  },
  {
   "cell_type": "markdown",
   "id": "da50a61f-32b5-49fb-b2d6-674be1639038",
   "metadata": {
    "jp-MarkdownHeadingCollapsed": true
   },
   "source": [
    "## 2. Pre-processing Data for Images (and Aligning by isic_id)"
   ]
  },
  {
   "cell_type": "code",
   "execution_count": 27,
   "id": "00e337be-a642-4aec-b4b8-461fefb25df7",
   "metadata": {},
   "outputs": [],
   "source": [
    "train_image_path = os.path.join(PATH, 'train-image.hdf5')\n",
    "input_size = 224"
   ]
  },
  {
   "cell_type": "code",
   "execution_count": 28,
   "id": "5945878f-42b4-4fe5-9771-0e1c1f8d5806",
   "metadata": {},
   "outputs": [],
   "source": [
    "# Transformations for training images\n",
    "transformTrain = transforms.Compose([\n",
    "    transforms.RandomResizedCrop(input_size),\n",
    "    transforms.RandomHorizontalFlip(),\n",
    "    transforms.RandomVerticalFlip(),\n",
    "    transforms.ToTensor(),\n",
    "    transforms.Normalize(mean=[0.485, 0.456, 0.406], \n",
    "                         std=[0.229, 0.224, 0.225])\n",
    "])\n",
    "\n",
    "#Transformations for validation/test images\n",
    "transformValTest = transforms.Compose([\n",
    "    transforms.Resize(input_size),\n",
    "    transforms.CenterCrop(input_size),\n",
    "    transforms.ToTensor(),\n",
    "    transforms.Normalize(mean=[0.485, 0.456, 0.406], \n",
    "                         std=[0.229, 0.224, 0.225])\n",
    "])"
   ]
  },
  {
   "cell_type": "code",
   "execution_count": 29,
   "id": "256e9e53-6283-491a-be95-0ced723a371f",
   "metadata": {},
   "outputs": [],
   "source": [
    "# PyTorch Dataset class for images alone (no metadata)\n",
    "class isicDatasetImageOnly(Dataset):\n",
    "    def __init__(self, hdf5_path, isic_ids, labels, transform=None):\n",
    "        self.hdf5_path = hdf5_path\n",
    "        self.isic_ids = isic_ids.reset_index(drop=True) # ensure sequential indexing\n",
    "        self.labels = labels.reset_index(drop=True)     # ensure labels align with isic_ids\n",
    "        self.transform = transform\n",
    "\n",
    "    def __len__(self):\n",
    "        return len(self.isic_ids) # Length is the number of images (equal to number of isic_ids).\n",
    "\n",
    "    def __getitem__(self, idx):\n",
    "        \n",
    "        # Get the isic_id and label for this index\n",
    "        isic_id = self.isic_ids.iloc[idx]\n",
    "        label = self.labels.iloc[idx]\n",
    "        \n",
    "        # Open HDF5 file and read the image bytes associated with this isic_id\n",
    "        with h5py.File(self.hdf5_path, 'r') as hdf5_file:\n",
    "            bytes_img = hdf5_file[isic_id][()]\n",
    "            image = Image.open(io.BytesIO(bytes_img)).convert('RGB')\n",
    "            \n",
    "        if self.transform:\n",
    "            image = self.transform(image)\n",
    "        return image, label"
   ]
  },
  {
   "cell_type": "code",
   "execution_count": 30,
   "id": "400f6ca9-4b49-48e6-b600-41e1761a6789",
   "metadata": {},
   "outputs": [],
   "source": [
    "# Create Datasets for train-val-test (image-only)\n",
    "train_imageDataset = isicDatasetImageOnly(train_image_path, train_isic_ids, y_train, transformTrain)\n",
    "val_imageDataset = isicDatasetImageOnly(train_image_path, val_isic_ids, y_val, transformValTest)\n",
    "test_imageDataset = isicDatasetImageOnly(train_image_path, test_isic_ids, pd.Series(np.zeros(len(test_isic_ids))), transformValTest)\n",
    "\n",
    "train_image_loader = DataLoader(train_imageDataset, batch_size=16, shuffle=True)\n",
    "val_image_loader = DataLoader(val_imageDataset, batch_size=16, shuffle=False)\n",
    "test_image_loader = DataLoader(test_imageDataset, batch_size=16, shuffle=False)"
   ]
  },
  {
   "cell_type": "markdown",
   "id": "b2015d21-217e-4dfd-a303-c1aa12ccfd4b",
   "metadata": {
    "jp-MarkdownHeadingCollapsed": true
   },
   "source": [
    "## 3. Combined Multimodal Dataset (Metadata + Images)"
   ]
  },
  {
   "cell_type": "markdown",
   "id": "a7ba1ee0-c98e-415e-94a1-7fc235642eb2",
   "metadata": {},
   "source": [
    "Before creating a multimodal dataset, I created dictionaries mapping each isic_id to its metadata features."
   ]
  },
  {
   "cell_type": "code",
   "execution_count": 31,
   "id": "d9e01236-4fe0-46d1-aa7e-c2688637586c",
   "metadata": {},
   "outputs": [],
   "source": [
    "# train_meta_dict, val_meta_dict, and test_meta_dict map each isic_id to its row of selected metadata features (numpy array).\n",
    "train_meta_dict = {iid: X_train.loc[idx].values \n",
    "                    for idx, iid in enumerate(train_isic_ids)}\n",
    "val_meta_dict = {iid: X_val.loc[idx].values \n",
    "                  for idx, iid in enumerate(val_isic_ids)}\n",
    "test_meta_dict = {iid: X_test.loc[idx].values \n",
    "                   for idx, iid in enumerate(test_isic_ids)}"
   ]
  },
  {
   "cell_type": "markdown",
   "id": "47ff49b1-d82d-411c-ab61-64c374dca870",
   "metadata": {},
   "source": [
    "isicMultimodalDataset: a Dataset that returns (image, metadata features, label) tuples.\n",
    "\n",
    "It uses both:\n",
    "- hdf5 file for images (like isicDatasetImageOnly)\n",
    "- meta_dict for metadata features"
   ]
  },
  {
   "cell_type": "code",
   "execution_count": 32,
   "id": "33db8b7f-ddf6-413b-8b8a-2546ef7e5755",
   "metadata": {},
   "outputs": [],
   "source": [
    "class isicMultimodalDataset(Dataset):\n",
    "    def __init__(self, hdf5_path, isic_ids, labels, meta_dict, transform=None):\n",
    "        self.hdf5_path = hdf5_path\n",
    "        self.isic_ids = isic_ids.reset_index(drop=True)\n",
    "        self.labels = labels.reset_index(drop=True)\n",
    "        self.meta_dict = meta_dict  # dictionary {isic_id: feature_vector}\n",
    "        self.transform = transform\n",
    "\n",
    "    def __len__(self):\n",
    "        return len(self.isic_ids) # Length is the number of samples (consistent with isic_ids)\n",
    "\n",
    "    def __getitem__(self, idx):\n",
    "         \n",
    "        # Retrieve the isic_id and corresponding label and metadata\n",
    "        isic_id = self.isic_ids.iloc[idx]\n",
    "        label = self.labels.iloc[idx]\n",
    "\n",
    "        # Get the metadata features for this isic_id\n",
    "        meta_features = self.meta_dict[isic_id]\n",
    "        # Convert metadata to a float32 tensor\n",
    "        meta_features = torch.tensor(meta_features, dtype=torch.float32)\n",
    "\n",
    "        # Load the image from the HDF5 file\n",
    "        with h5py.File(self.hdf5_path, 'r') as hdf5_file:\n",
    "            bytes_img = hdf5_file[isic_id][()]\n",
    "            image = Image.open(io.BytesIO(bytes_img)).convert('RGB')\n",
    "        if self.transform:\n",
    "            image = self.transform(image)\n",
    "        \n",
    "        # Return (image, metadata_features, label) tuple\n",
    "        return image, meta_features, torch.tensor(label, dtype=torch.float32)"
   ]
  },
  {
   "cell_type": "code",
   "execution_count": 33,
   "id": "8bdaf563-5a8e-4b14-9191-62596d456cc7",
   "metadata": {},
   "outputs": [],
   "source": [
    "# Create Multimodal Datasets and  - combined both image and metadata for train, val, and test sets.\n",
    "train_mm_dataset = isicMultimodalDataset(train_image_path, train_isic_ids, y_train, train_meta_dict, transformTrain)\n",
    "val_mm_dataset = isicMultimodalDataset(train_image_path, val_isic_ids, y_val, val_meta_dict, transformValTest)\n",
    "test_mm_dataset = isicMultimodalDataset(train_image_path, test_isic_ids, y_test, test_meta_dict, transformValTest)\n",
    "\n",
    "train_mm_loader = DataLoader(train_mm_dataset, batch_size=16, shuffle=True)\n",
    "val_mm_loader = DataLoader(val_mm_dataset, batch_size=16, shuffle=False)\n",
    "test_mm_loader = DataLoader(test_mm_dataset, batch_size=16, shuffle=False)"
   ]
  },
  {
   "cell_type": "markdown",
   "id": "62147497-2abf-43dd-afe9-85ab4faf8adf",
   "metadata": {
    "jp-MarkdownHeadingCollapsed": true
   },
   "source": [
    "## 4. Define Models (MLP for Metadata, ResNet for Images, Late Fusion)"
   ]
  },
  {
   "cell_type": "markdown",
   "id": "09629f28-2d0f-4f7a-a263-37a7b79684a1",
   "metadata": {},
   "source": [
    "### MLPModel: To process metadata features\n",
    "The metadata features are passed through a stack of linear layers (fully connected layers) with:\n",
    "- Batch normalization: To stabilize and speed up training by normalizing layer outputs.\n",
    "- ReLU activation: To introduce nonlinearity, helping the model learn complex patterns.\n",
    "\n",
    "This architecture outputs a 32-dimensional feature vector (embedding) for each input sample."
   ]
  },
  {
   "cell_type": "code",
   "execution_count": 34,
   "id": "51d420b7-84a9-4caa-a51a-f3544442f89c",
   "metadata": {},
   "outputs": [],
   "source": [
    "class MLPModel(nn.Module):\n",
    "    def __init__(self, input_dim):\n",
    "        super(MLPModel, self).__init__()\n",
    "        self.fc = nn.Sequential(\n",
    "            nn.Linear(input_dim, 128), # Fully connected layer mapping input_dim -> 128\n",
    "            nn.BatchNorm1d(128),\n",
    "            nn.ReLU(),\n",
    "            nn.Linear(128, 64),  # 128 -> 64\n",
    "            nn.BatchNorm1d(64),\n",
    "            nn.ReLU(),\n",
    "            nn.Linear(64, 32),  # 64 -> 32\n",
    "            nn.BatchNorm1d(32),\n",
    "            nn.ReLU()\n",
    "        )\n",
    "\n",
    "    def forward(self, x):\n",
    "        return self.fc(x)  # Output: A 32-dimensional embedding representing the metadata\n",
    "\n",
    "# X_train contains the preprocessed metadata; number of columns = number of features\n",
    "mlp_input_dim = X_train.shape[1]\n",
    "\n",
    " # Instantiate the MLP model\n",
    "mlp_model = MLPModel(mlp_input_dim)"
   ]
  },
  {
   "cell_type": "markdown",
   "id": "d1c490ad-d8f2-4162-8680-d1c2ec04e250",
   "metadata": {},
   "source": [
    "### ResNet-18 model: To process image data"
   ]
  },
  {
   "cell_type": "code",
   "execution_count": 35,
   "id": "dd3d88da-b6dc-4280-b395-3556c444f8ea",
   "metadata": {},
   "outputs": [
    {
     "name": "stderr",
     "output_type": "stream",
     "text": [
      "/pfs/lustref1/flash/project_465001560/myenv/lib/python3.11/site-packages/torchvision/models/_utils.py:208: UserWarning: The parameter 'pretrained' is deprecated since 0.13 and may be removed in the future, please use 'weights' instead.\n",
      "  warnings.warn(\n",
      "/pfs/lustref1/flash/project_465001560/myenv/lib/python3.11/site-packages/torchvision/models/_utils.py:223: UserWarning: Arguments other than a weight enum or `None` for 'weights' are deprecated since 0.13 and may be removed in the future. The current behavior is equivalent to passing `weights=ResNet18_Weights.IMAGENET1K_V1`. You can also use `weights=ResNet18_Weights.DEFAULT` to get the most up-to-date weights.\n",
      "  warnings.warn(msg)\n"
     ]
    }
   ],
   "source": [
    "# Pretrained models are initialized with weights trained on ImageNet, enabling transfer learning\n",
    "resnet = models.resnet18(pretrained=True)\n",
    "\n",
    "# Freeze all ResNet parameters to prevent them from being updated during training\n",
    "# This leverages the pretrained features without modifying them\n",
    "for param in resnet.parameters():\n",
    "    param.requires_grad = False"
   ]
  },
  {
   "cell_type": "code",
   "execution_count": 36,
   "id": "d0add422-d01f-4d1f-a821-8c498bb8733c",
   "metadata": {},
   "outputs": [],
   "source": [
    "# Modify the ResNet model to remove its final fully connected layer (classifier)\n",
    "# Instead of producing a class score, the ResNet now outputs a 512-dimensional feature vector (penultimate layer)\n",
    "\n",
    "resnet.fc = nn.Identity()   # Replace the final layer with an identity layer (pass-through)\n",
    "\n",
    "# output a 512-dim embedding"
   ]
  },
  {
   "cell_type": "markdown",
   "id": "267a35d8-63b1-48c3-adac-da317311c7d7",
   "metadata": {},
   "source": [
    "### Late Fusion model: To combine embeddings from MLP and ResNet models\n",
    "Late fusion involves combining the outputs (embeddings) of both models at a late stage in the architecture."
   ]
  },
  {
   "cell_type": "code",
   "execution_count": 37,
   "id": "5792d1d1-b833-4e9d-96cd-40fa5a2990cf",
   "metadata": {},
   "outputs": [],
   "source": [
    "class LateFusionModel(nn.Module):\n",
    "    def __init__(self, mlp, resnet, mlp_output_dim=32, resnet_output_dim=512):\n",
    "        super(LateFusionModel, self).__init__()\n",
    "        \n",
    "        # mlp: the MLP model for metadata\n",
    "        self.mlp = mlp\n",
    "\n",
    "        # resnet: the ResNet model for images\n",
    "        self.resnet = resnet\n",
    "\n",
    "        # Define layers for fusion\n",
    "        self.fc_fusion = nn.Sequential(\n",
    "            nn.Linear(mlp_output_dim + resnet_output_dim, 64), # Combine MLP and ResNet embeddings (32 + 512 -> 64)\n",
    "            nn.ReLU(),                                         # ReLU activation after combination\n",
    "            nn.Linear(64, 1),                                  # Output layer (maps 64 -> 1 for binary classification)\n",
    "            nn.Sigmoid()\n",
    "        )\n",
    "    def forward(self, image, meta):\n",
    "        meta_emb = self.mlp(meta)                      # MLP to generate a 32-dimensional embedding\n",
    "        img_emb = self.resnet(image)                   # ResNet to generate a 512-dimensional embedding\n",
    "        fused = torch.cat([meta_emb, img_emb], dim=1)  # Concatenate the two embeddings along the feature dimension (dim=1)\n",
    "        out = self.fc_fusion(fused)\n",
    "        return out"
   ]
  },
  {
   "cell_type": "code",
   "execution_count": 38,
   "id": "0b434269-d443-40a1-884f-d8bef95002d6",
   "metadata": {},
   "outputs": [
    {
     "name": "stdout",
     "output_type": "stream",
     "text": [
      "PyTorch HIP Version: 5.4.22803-474e8620\n",
      "Is CUDA available?: True\n",
      "CUDA Device Name: AMD Instinct MI250X\n"
     ]
    }
   ],
   "source": [
    "print(\"PyTorch HIP Version:\", torch.version.hip)  # ROCm version\n",
    "print(\"Is CUDA available?:\", torch.cuda.is_available())\n",
    "print(\"CUDA Device Name:\", torch.cuda.get_device_name(0))\n",
    "\n",
    "device = torch.device(\"cuda\" if torch.cuda.is_available() else \"cpu\")"
   ]
  },
  {
   "cell_type": "markdown",
   "id": "7f2bd4fc-2646-4b0e-ac1d-9182c23aa12c",
   "metadata": {},
   "source": [
    "### Instantiate the LateFusionModel by passing the MLP and ResNet models"
   ]
  },
  {
   "cell_type": "code",
   "execution_count": 39,
   "id": "a257f134-2ed0-450a-a759-b605a70fe651",
   "metadata": {},
   "outputs": [],
   "source": [
    "model = LateFusionModel(mlp_model, resnet).to(device)"
   ]
  },
  {
   "cell_type": "code",
   "execution_count": 40,
   "id": "05367be0-10b6-49de-87b8-b535a7981d8b",
   "metadata": {},
   "outputs": [],
   "source": [
    "# Compute class weights to handle class imbalance in the dataset.\n",
    "# This calculates weights inversely proportional to the class frequencies in the training data.\n",
    "\n",
    "y_array = y_train\n",
    "class_weights = compute_class_weight('balanced', classes=np.unique(y_array), y=y_array)\n",
    "\n",
    "# Convert class weights to a tensor and move them to the computation device\n",
    "weightsTensor = torch.tensor(class_weights, dtype=torch.float).to(device)"
   ]
  },
  {
   "cell_type": "code",
   "execution_count": 41,
   "id": "9cd2f3f0-e5c0-433a-b928-9cd55c76eed8",
   "metadata": {},
   "outputs": [],
   "source": [
    "criterion = nn.BCELoss()\n",
    "optimizer = optim.SGD(model.parameters(), lr=0.001, momentum=0.9)"
   ]
  },
  {
   "cell_type": "markdown",
   "id": "71036997-5be1-414e-b903-1140c99c0ad2",
   "metadata": {
    "jp-MarkdownHeadingCollapsed": true
   },
   "source": [
    "## 5. Train the Late-Fusion Model"
   ]
  },
  {
   "cell_type": "code",
   "execution_count": 42,
   "id": "01f0d92b-d58c-40bd-8746-7e0f10aaeb28",
   "metadata": {},
   "outputs": [],
   "source": [
    "def train_fusion_model(model, train_loader, val_loader, criterion, optimizer, num_epochs=10):\n",
    "    best_acc = 0.0\n",
    "    best_model_wts = copy.deepcopy(model.state_dict()) # Save the best-performing model weights\n",
    "\n",
    "    # Lists to store history of loss and accuracy for training and validation\n",
    "    train_loss_history = []\n",
    "    val_loss_history = []\n",
    "    train_acc_history = []\n",
    "    val_acc_history = []\n",
    "\n",
    "    for epoch in range(num_epochs):\n",
    "        print(f\"Epoch {epoch+1}/{num_epochs}\")\n",
    "        print('-'*10)\n",
    "\n",
    "        # Train phase\n",
    "        model.train()\n",
    "        running_loss = 0.0      # Accumulates loss for the epoch\n",
    "        running_corrects = 0    # Accumulates correct predictions for accuracy\n",
    "        total = 0\n",
    "        for images, metas, labels in train_loader:\n",
    "            images = images.to(device)\n",
    "            metas = metas.to(device)\n",
    "            labels = labels.to(device)\n",
    "\n",
    "            optimizer.zero_grad()\n",
    "            outputs = model(images, metas).squeeze()\n",
    "            loss = criterion(outputs, labels)\n",
    "            loss.backward()\n",
    "            optimizer.step()\n",
    "\n",
    "            # Accumulate training loss (scaled by batch size)\n",
    "            running_loss += loss.item() * images.size(0)\n",
    "            \n",
    "            # Convert outputs to binary predictions (threshold = 0.5)\n",
    "            preds = (outputs > 0.5).float()\n",
    "            \n",
    "            # Count correct predictions\n",
    "            running_corrects += (preds == labels).sum().item()\n",
    "            total += labels.size(0)\n",
    "\n",
    "        # Compute average loss and accuracy for this epoch\n",
    "        epoch_train_loss = running_loss / total\n",
    "        epoch_train_acc = running_corrects / total\n",
    "\n",
    "        # Store in history\n",
    "        train_loss_history.append(epoch_train_loss)\n",
    "        train_acc_history.append(epoch_train_acc)\n",
    "\n",
    "        # Validation phase\n",
    "        model.eval()\n",
    "        running_loss = 0.0     # Reset loss accumulation for validation\n",
    "        running_corrects = 0   # Reset correct prediction counter\n",
    "        total = 0\n",
    "        with torch.no_grad():  # Disable gradient computation for validation\n",
    "            for images, metas, labels in val_loader:\n",
    "                images = images.to(device)\n",
    "                metas = metas.to(device)\n",
    "                labels = labels.to(device)\n",
    "\n",
    "                outputs = model(images, metas).squeeze()\n",
    "                loss = criterion(outputs, labels)\n",
    "\n",
    "                # Accumulate validation loss (scaled by batch size)\n",
    "                running_loss += loss.item() * images.size(0)\n",
    "\n",
    "                # Convert outputs to binary predictions\n",
    "                preds = (outputs > 0.5).float()\n",
    "\n",
    "                 # Count correct predictions\n",
    "                running_corrects += (preds == labels).sum().item()\n",
    "                total += labels.size(0)\n",
    "\n",
    "        # Compute average loss and accuracy for validation\n",
    "        epoch_val_loss = running_loss / total\n",
    "        epoch_val_acc = running_corrects / total\n",
    "\n",
    "        # Store in history\n",
    "        val_loss_history.append(epoch_val_loss)\n",
    "        val_acc_history.append(epoch_val_acc)\n",
    "\n",
    "        print(f\"Train Loss: {epoch_train_loss:.4f}, Train Acc: {epoch_train_acc:.4f}\")\n",
    "        print(f\"Val Loss: {epoch_val_loss:.4f}, Val Acc: {epoch_val_acc:.4f}\")\n",
    "        print()\n",
    "        \n",
    "        # Save the model weights if this epoch has the best validation accuracy so far\n",
    "        if epoch_val_acc > best_acc:\n",
    "            best_acc = epoch_val_acc\n",
    "            best_model_wts = copy.deepcopy(model.state_dict())\n",
    "\n",
    "    model.load_state_dict(best_model_wts)\n",
    "    print(\"Training complete. Best Val Acc: {:.4f}\".format(best_acc))\n",
    "\n",
    "    return model, (train_loss_history, val_loss_history, train_acc_history, val_acc_history)"
   ]
  },
  {
   "cell_type": "markdown",
   "id": "10310895-c20e-45a5-93bc-5699c89a26e8",
   "metadata": {},
   "source": [
    "### Train the fusion model and retrieve history"
   ]
  },
  {
   "cell_type": "code",
   "execution_count": 43,
   "id": "a0297c6c-5b86-483d-bb07-2b30bc6137a7",
   "metadata": {},
   "outputs": [
    {
     "name": "stdout",
     "output_type": "stream",
     "text": [
      "Epoch 1/30\n",
      "----------\n",
      "Train Loss: 0.6908, Train Acc: 0.5175\n",
      "Val Loss: 0.6490, Val Acc: 0.6203\n",
      "\n",
      "Epoch 2/30\n",
      "----------\n",
      "Train Loss: 0.6541, Train Acc: 0.6481\n",
      "Val Loss: 0.6324, Val Acc: 0.6709\n",
      "\n",
      "Epoch 3/30\n",
      "----------\n",
      "Train Loss: 0.6334, Train Acc: 0.6831\n",
      "Val Loss: 0.6017, Val Acc: 0.6582\n",
      "\n",
      "Epoch 4/30\n",
      "----------\n",
      "Train Loss: 0.6207, Train Acc: 0.6704\n",
      "Val Loss: 0.5927, Val Acc: 0.7595\n",
      "\n",
      "Epoch 5/30\n",
      "----------\n",
      "Train Loss: 0.5994, Train Acc: 0.7182\n",
      "Val Loss: 0.5614, Val Acc: 0.7342\n",
      "\n",
      "Epoch 6/30\n",
      "----------\n",
      "Train Loss: 0.5758, Train Acc: 0.7166\n",
      "Val Loss: 0.5534, Val Acc: 0.7468\n",
      "\n",
      "Epoch 7/30\n",
      "----------\n",
      "Train Loss: 0.5596, Train Acc: 0.7309\n",
      "Val Loss: 0.5286, Val Acc: 0.7722\n",
      "\n",
      "Epoch 8/30\n",
      "----------\n",
      "Train Loss: 0.5485, Train Acc: 0.7293\n",
      "Val Loss: 0.5081, Val Acc: 0.7595\n",
      "\n",
      "Epoch 9/30\n",
      "----------\n",
      "Train Loss: 0.5226, Train Acc: 0.7596\n",
      "Val Loss: 0.4937, Val Acc: 0.8101\n",
      "\n",
      "Epoch 10/30\n",
      "----------\n",
      "Train Loss: 0.4978, Train Acc: 0.7755\n",
      "Val Loss: 0.4629, Val Acc: 0.7848\n",
      "\n",
      "Epoch 11/30\n",
      "----------\n",
      "Train Loss: 0.5083, Train Acc: 0.7548\n",
      "Val Loss: 0.4679, Val Acc: 0.8101\n",
      "\n",
      "Epoch 12/30\n",
      "----------\n",
      "Train Loss: 0.4902, Train Acc: 0.7755\n",
      "Val Loss: 0.4363, Val Acc: 0.7722\n",
      "\n",
      "Epoch 13/30\n",
      "----------\n",
      "Train Loss: 0.4660, Train Acc: 0.7771\n",
      "Val Loss: 0.4376, Val Acc: 0.8354\n",
      "\n",
      "Epoch 14/30\n",
      "----------\n",
      "Train Loss: 0.4741, Train Acc: 0.7771\n",
      "Val Loss: 0.4092, Val Acc: 0.7848\n",
      "\n",
      "Epoch 15/30\n",
      "----------\n",
      "Train Loss: 0.4264, Train Acc: 0.8121\n",
      "Val Loss: 0.4023, Val Acc: 0.8228\n",
      "\n",
      "Epoch 16/30\n",
      "----------\n",
      "Train Loss: 0.4335, Train Acc: 0.7978\n",
      "Val Loss: 0.3855, Val Acc: 0.8101\n",
      "\n",
      "Epoch 17/30\n",
      "----------\n",
      "Train Loss: 0.4126, Train Acc: 0.8121\n",
      "Val Loss: 0.3883, Val Acc: 0.8481\n",
      "\n",
      "Epoch 18/30\n",
      "----------\n",
      "Train Loss: 0.4406, Train Acc: 0.7978\n",
      "Val Loss: 0.3597, Val Acc: 0.8608\n",
      "\n",
      "Epoch 19/30\n",
      "----------\n",
      "Train Loss: 0.3847, Train Acc: 0.8248\n",
      "Val Loss: 0.3413, Val Acc: 0.8101\n",
      "\n",
      "Epoch 20/30\n",
      "----------\n",
      "Train Loss: 0.3863, Train Acc: 0.8264\n",
      "Val Loss: 0.3385, Val Acc: 0.8101\n",
      "\n",
      "Epoch 21/30\n",
      "----------\n",
      "Train Loss: 0.3732, Train Acc: 0.8455\n",
      "Val Loss: 0.3377, Val Acc: 0.8228\n",
      "\n",
      "Epoch 22/30\n",
      "----------\n",
      "Train Loss: 0.3764, Train Acc: 0.8392\n",
      "Val Loss: 0.3267, Val Acc: 0.8354\n",
      "\n",
      "Epoch 23/30\n",
      "----------\n",
      "Train Loss: 0.3457, Train Acc: 0.8551\n",
      "Val Loss: 0.3718, Val Acc: 0.8354\n",
      "\n",
      "Epoch 24/30\n",
      "----------\n",
      "Train Loss: 0.3443, Train Acc: 0.8408\n",
      "Val Loss: 0.3117, Val Acc: 0.8608\n",
      "\n",
      "Epoch 25/30\n",
      "----------\n",
      "Train Loss: 0.3310, Train Acc: 0.8487\n",
      "Val Loss: 0.3783, Val Acc: 0.8101\n",
      "\n",
      "Epoch 26/30\n",
      "----------\n",
      "Train Loss: 0.3458, Train Acc: 0.8583\n",
      "Val Loss: 0.3245, Val Acc: 0.8734\n",
      "\n",
      "Epoch 27/30\n",
      "----------\n",
      "Train Loss: 0.2808, Train Acc: 0.8917\n",
      "Val Loss: 0.3170, Val Acc: 0.8481\n",
      "\n",
      "Epoch 28/30\n",
      "----------\n",
      "Train Loss: 0.2615, Train Acc: 0.8869\n",
      "Val Loss: 0.3207, Val Acc: 0.8481\n",
      "\n",
      "Epoch 29/30\n",
      "----------\n",
      "Train Loss: 0.3051, Train Acc: 0.8790\n",
      "Val Loss: 0.2860, Val Acc: 0.8734\n",
      "\n",
      "Epoch 30/30\n",
      "----------\n",
      "Train Loss: 0.3278, Train Acc: 0.8503\n",
      "Val Loss: 0.3191, Val Acc: 0.8481\n",
      "\n",
      "Training complete. Best Val Acc: 0.8734\n"
     ]
    }
   ],
   "source": [
    "model, history = train_fusion_model(model, train_mm_loader, val_mm_loader, criterion, optimizer, num_epochs=30)\n",
    "train_loss_history, val_loss_history, train_acc_history, val_acc_history = history"
   ]
  },
  {
   "cell_type": "markdown",
   "id": "0bb5b5a5-a68b-497f-8e16-dbf3dc6af876",
   "metadata": {
    "jp-MarkdownHeadingCollapsed": true
   },
   "source": [
    "## 6. Visualisation Training and Validation Metrics"
   ]
  },
  {
   "cell_type": "code",
   "execution_count": 44,
   "id": "93aa2263-93b8-4a26-a49e-7806428956e8",
   "metadata": {},
   "outputs": [
    {
     "data": {
      "image/png": "[encoded data removed]",
      "text/plain": [
       "<Figure size 1000x600 with 1 Axes>"
      ]
     },
     "metadata": {},
     "output_type": "display_data"
    }
   ],
   "source": [
    "# Training and Validation Loss\n",
    "plt.figure(figsize=(10,6))\n",
    "plt.plot(train_loss_history, label='Train Loss', marker='o')\n",
    "plt.plot(val_loss_history, label='Validation Loss', marker='x')\n",
    "plt.title(\"Training and Validation Loss\")\n",
    "plt.xlabel(\"Epoch\")\n",
    "plt.ylabel(\"Loss\")\n",
    "plt.grid(True)\n",
    "plt.legend()\n",
    "plt.show()"
   ]
  },
  {
   "cell_type": "code",
   "execution_count": 45,
   "id": "3d22bffc-7346-4ae8-ae4d-b19e64f3110e",
   "metadata": {},
   "outputs": [
    {
     "data": {
      "image/png": "[encoded data removed]",
      "text/plain": [
       "<Figure size 1000x600 with 1 Axes>"
      ]
     },
     "metadata": {},
     "output_type": "display_data"
    }
   ],
   "source": [
    "# Training and Validation Accuracy\n",
    "plt.figure(figsize=(10,6))\n",
    "plt.plot(train_acc_history, label='Train Accuracy', marker='o')\n",
    "plt.plot(val_acc_history, label='Validation Accuracy', marker='x')\n",
    "plt.title(\"Training and Validation Accuracy\")\n",
    "plt.xlabel(\"Epoch\")\n",
    "plt.ylabel(\"Accuracy\")\n",
    "plt.grid(True)\n",
    "plt.legend()\n",
    "plt.show()"
   ]
  },
  {
   "cell_type": "markdown",
   "id": "64062be5-9ae6-49fa-bcec-acf0b7805621",
   "metadata": {},
   "source": [
    "## Evaluate Model on Test Data"
   ]
  },
  {
   "cell_type": "code",
   "execution_count": 46,
   "id": "d300b4e7-c010-4e43-b298-354dc0ab9365",
   "metadata": {},
   "outputs": [
    {
     "data": {
      "text/plain": [
       "LateFusionModel(\n",
       "  (mlp): MLPModel(\n",
       "    (fc): Sequential(\n",
       "      (0): Linear(in_features=51, out_features=128, bias=True)\n",
       "      (1): BatchNorm1d(128, eps=1e-05, momentum=0.1, affine=True, track_running_stats=True)\n",
       "      (2): ReLU()\n",
       "      (3): Linear(in_features=128, out_features=64, bias=True)\n",
       "      (4): BatchNorm1d(64, eps=1e-05, momentum=0.1, affine=True, track_running_stats=True)\n",
       "      (5): ReLU()\n",
       "      (6): Linear(in_features=64, out_features=32, bias=True)\n",
       "      (7): BatchNorm1d(32, eps=1e-05, momentum=0.1, affine=True, track_running_stats=True)\n",
       "      (8): ReLU()\n",
       "    )\n",
       "  )\n",
       "  (resnet): ResNet(\n",
       "    (conv1): Conv2d(3, 64, kernel_size=(7, 7), stride=(2, 2), padding=(3, 3), bias=False)\n",
       "    (bn1): BatchNorm2d(64, eps=1e-05, momentum=0.1, affine=True, track_running_stats=True)\n",
       "    (relu): ReLU(inplace=True)\n",
       "    (maxpool): MaxPool2d(kernel_size=3, stride=2, padding=1, dilation=1, ceil_mode=False)\n",
       "    (layer1): Sequential(\n",
       "      (0): BasicBlock(\n",
       "        (conv1): Conv2d(64, 64, kernel_size=(3, 3), stride=(1, 1), padding=(1, 1), bias=False)\n",
       "        (bn1): BatchNorm2d(64, eps=1e-05, momentum=0.1, affine=True, track_running_stats=True)\n",
       "        (relu): ReLU(inplace=True)\n",
       "        (conv2): Conv2d(64, 64, kernel_size=(3, 3), stride=(1, 1), padding=(1, 1), bias=False)\n",
       "        (bn2): BatchNorm2d(64, eps=1e-05, momentum=0.1, affine=True, track_running_stats=True)\n",
       "      )\n",
       "      (1): BasicBlock(\n",
       "        (conv1): Conv2d(64, 64, kernel_size=(3, 3), stride=(1, 1), padding=(1, 1), bias=False)\n",
       "        (bn1): BatchNorm2d(64, eps=1e-05, momentum=0.1, affine=True, track_running_stats=True)\n",
       "        (relu): ReLU(inplace=True)\n",
       "        (conv2): Conv2d(64, 64, kernel_size=(3, 3), stride=(1, 1), padding=(1, 1), bias=False)\n",
       "        (bn2): BatchNorm2d(64, eps=1e-05, momentum=0.1, affine=True, track_running_stats=True)\n",
       "      )\n",
       "    )\n",
       "    (layer2): Sequential(\n",
       "      (0): BasicBlock(\n",
       "        (conv1): Conv2d(64, 128, kernel_size=(3, 3), stride=(2, 2), padding=(1, 1), bias=False)\n",
       "        (bn1): BatchNorm2d(128, eps=1e-05, momentum=0.1, affine=True, track_running_stats=True)\n",
       "        (relu): ReLU(inplace=True)\n",
       "        (conv2): Conv2d(128, 128, kernel_size=(3, 3), stride=(1, 1), padding=(1, 1), bias=False)\n",
       "        (bn2): BatchNorm2d(128, eps=1e-05, momentum=0.1, affine=True, track_running_stats=True)\n",
       "        (downsample): Sequential(\n",
       "          (0): Conv2d(64, 128, kernel_size=(1, 1), stride=(2, 2), bias=False)\n",
       "          (1): BatchNorm2d(128, eps=1e-05, momentum=0.1, affine=True, track_running_stats=True)\n",
       "        )\n",
       "      )\n",
       "      (1): BasicBlock(\n",
       "        (conv1): Conv2d(128, 128, kernel_size=(3, 3), stride=(1, 1), padding=(1, 1), bias=False)\n",
       "        (bn1): BatchNorm2d(128, eps=1e-05, momentum=0.1, affine=True, track_running_stats=True)\n",
       "        (relu): ReLU(inplace=True)\n",
       "        (conv2): Conv2d(128, 128, kernel_size=(3, 3), stride=(1, 1), padding=(1, 1), bias=False)\n",
       "        (bn2): BatchNorm2d(128, eps=1e-05, momentum=0.1, affine=True, track_running_stats=True)\n",
       "      )\n",
       "    )\n",
       "    (layer3): Sequential(\n",
       "      (0): BasicBlock(\n",
       "        (conv1): Conv2d(128, 256, kernel_size=(3, 3), stride=(2, 2), padding=(1, 1), bias=False)\n",
       "        (bn1): BatchNorm2d(256, eps=1e-05, momentum=0.1, affine=True, track_running_stats=True)\n",
       "        (relu): ReLU(inplace=True)\n",
       "        (conv2): Conv2d(256, 256, kernel_size=(3, 3), stride=(1, 1), padding=(1, 1), bias=False)\n",
       "        (bn2): BatchNorm2d(256, eps=1e-05, momentum=0.1, affine=True, track_running_stats=True)\n",
       "        (downsample): Sequential(\n",
       "          (0): Conv2d(128, 256, kernel_size=(1, 1), stride=(2, 2), bias=False)\n",
       "          (1): BatchNorm2d(256, eps=1e-05, momentum=0.1, affine=True, track_running_stats=True)\n",
       "        )\n",
       "      )\n",
       "      (1): BasicBlock(\n",
       "        (conv1): Conv2d(256, 256, kernel_size=(3, 3), stride=(1, 1), padding=(1, 1), bias=False)\n",
       "        (bn1): BatchNorm2d(256, eps=1e-05, momentum=0.1, affine=True, track_running_stats=True)\n",
       "        (relu): ReLU(inplace=True)\n",
       "        (conv2): Conv2d(256, 256, kernel_size=(3, 3), stride=(1, 1), padding=(1, 1), bias=False)\n",
       "        (bn2): BatchNorm2d(256, eps=1e-05, momentum=0.1, affine=True, track_running_stats=True)\n",
       "      )\n",
       "    )\n",
       "    (layer4): Sequential(\n",
       "      (0): BasicBlock(\n",
       "        (conv1): Conv2d(256, 512, kernel_size=(3, 3), stride=(2, 2), padding=(1, 1), bias=False)\n",
       "        (bn1): BatchNorm2d(512, eps=1e-05, momentum=0.1, affine=True, track_running_stats=True)\n",
       "        (relu): ReLU(inplace=True)\n",
       "        (conv2): Conv2d(512, 512, kernel_size=(3, 3), stride=(1, 1), padding=(1, 1), bias=False)\n",
       "        (bn2): BatchNorm2d(512, eps=1e-05, momentum=0.1, affine=True, track_running_stats=True)\n",
       "        (downsample): Sequential(\n",
       "          (0): Conv2d(256, 512, kernel_size=(1, 1), stride=(2, 2), bias=False)\n",
       "          (1): BatchNorm2d(512, eps=1e-05, momentum=0.1, affine=True, track_running_stats=True)\n",
       "        )\n",
       "      )\n",
       "      (1): BasicBlock(\n",
       "        (conv1): Conv2d(512, 512, kernel_size=(3, 3), stride=(1, 1), padding=(1, 1), bias=False)\n",
       "        (bn1): BatchNorm2d(512, eps=1e-05, momentum=0.1, affine=True, track_running_stats=True)\n",
       "        (relu): ReLU(inplace=True)\n",
       "        (conv2): Conv2d(512, 512, kernel_size=(3, 3), stride=(1, 1), padding=(1, 1), bias=False)\n",
       "        (bn2): BatchNorm2d(512, eps=1e-05, momentum=0.1, affine=True, track_running_stats=True)\n",
       "      )\n",
       "    )\n",
       "    (avgpool): AdaptiveAvgPool2d(output_size=(1, 1))\n",
       "    (fc): Identity()\n",
       "  )\n",
       "  (fc_fusion): Sequential(\n",
       "    (0): Linear(in_features=544, out_features=64, bias=True)\n",
       "    (1): ReLU()\n",
       "    (2): Linear(in_features=64, out_features=1, bias=True)\n",
       "    (3): Sigmoid()\n",
       "  )\n",
       ")"
      ]
     },
     "execution_count": 46,
     "metadata": {},
     "output_type": "execute_result"
    }
   ],
   "source": [
    "# Evaluate on test set\n",
    "model.eval()"
   ]
  },
  {
   "cell_type": "code",
   "execution_count": 47,
   "id": "3cc8c237-90c2-4706-ba1e-a90f7d7c0832",
   "metadata": {},
   "outputs": [],
   "source": [
    "# Store ground truth labels\n",
    "y_true = []\n",
    "\n",
    "# Store predictions\n",
    "y_pred = []\n",
    "\n",
    "with torch.no_grad():\n",
    "    for images, metas, labels in test_mm_loader:\n",
    "        images = images.to(device)\n",
    "        metas = metas.to(device)\n",
    "        labels = labels.to(device)\n",
    "        \n",
    "        # Get model predictions\n",
    "        outputs = model(images, metas).squeeze()\n",
    "        preds = (outputs > 0.5).float()\n",
    "\n",
    "        # Append ground truth and predictions to lists\n",
    "        y_true.extend(labels.cpu().numpy())\n",
    "        y_pred.extend(preds.cpu().numpy())"
   ]
  },
  {
   "cell_type": "code",
   "execution_count": 48,
   "id": "2d0e10a9-0820-4b2e-9c63-20ad64d93500",
   "metadata": {},
   "outputs": [
    {
     "name": "stdout",
     "output_type": "stream",
     "text": [
      "Test Accuracy: 0.8608\n",
      "Test Precision: 0.8333\n",
      "Test Recall: 0.8974\n",
      "Test F1 Score: 0.8642\n"
     ]
    }
   ],
   "source": [
    "# Compute evaluation metrics\n",
    "test_accuracy = accuracy_score(y_true, y_pred)\n",
    "test_precision = precision_score(y_true, y_pred, average='binary')\n",
    "test_recall = recall_score(y_true, y_pred, average='binary')\n",
    "test_f1 = f1_score(y_true, y_pred, average='binary')\n",
    "\n",
    "print(f\"Test Accuracy: {test_accuracy:.4f}\")\n",
    "print(f\"Test Precision: {test_precision:.4f}\")\n",
    "print(f\"Test Recall: {test_recall:.4f}\")\n",
    "print(f\"Test F1 Score: {test_f1:.4f}\")"
   ]
  },
  {
   "cell_type": "code",
   "execution_count": 49,
   "id": "296d87e4-1817-415a-bbac-16c39836613a",
   "metadata": {},
   "outputs": [
    {
     "name": "stdout",
     "output_type": "stream",
     "text": [
      "Classification Report:\n",
      "               precision    recall  f1-score   support\n",
      "\n",
      "         0.0       0.89      0.82      0.86        40\n",
      "         1.0       0.83      0.90      0.86        39\n",
      "\n",
      "    accuracy                           0.86        79\n",
      "   macro avg       0.86      0.86      0.86        79\n",
      "weighted avg       0.86      0.86      0.86        79\n",
      "\n"
     ]
    }
   ],
   "source": [
    "# Classification report\n",
    "print(\"Classification Report:\\n\", classification_report(y_true, y_pred))"
   ]
  },
  {
   "cell_type": "code",
   "execution_count": 50,
   "id": "8d65b299-5b05-46a8-8b9d-2aef85da0af2",
   "metadata": {},
   "outputs": [
    {
     "data": {
      "image/png": "[encoded data removed]",
      "text/plain": [
       "<Figure size 800x600 with 2 Axes>"
      ]
     },
     "metadata": {},
     "output_type": "display_data"
    }
   ],
   "source": [
    "# Confusion Matrix\n",
    "cm = confusion_matrix(y_true, y_pred)\n",
    "plt.figure(figsize=(8,6))\n",
    "sns.heatmap(cm, annot=True, fmt='d', cmap='Blues')\n",
    "plt.title(\"Confusion Matrix\")\n",
    "plt.xlabel(\"Predicted\")\n",
    "plt.ylabel(\"True\")\n",
    "plt.show()"
   ]
  }
 ],
 "metadata": {
  "kernelspec": {
   "display_name": "Python (myenv)",
   "language": "python",
   "name": "myenv"
  },
  "language_info": {
   "codemirror_mode": {
    "name": "ipython",
    "version": 3
   },
   "file_extension": ".py",
   "mimetype": "text/x-python",
   "name": "python",
   "nbconvert_exporter": "python",
   "pygments_lexer": "ipython3",
   "version": "3.11.7"
  }
 },
 "nbformat": 4,
 "nbformat_minor": 5
}
